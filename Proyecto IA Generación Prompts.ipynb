{
 "cells": [
  {
   "cell_type": "markdown",
   "id": "a294bed1",
   "metadata": {},
   "source": [
    "# Educación Visual para Niños Neurodivergentes\n",
    "\n",
    "## 📋 Resumen\n",
    "Este proyecto propone una solución educativa para niños neurodivergentes, como quienes presentan autismo o TDAH, utilizando inteligencia artificial para generar materiales visuales y narrativos personalizados. A través de prompts texto-texto y texto-imagen, se crean cuentos, rutinas ilustradas e imágenes educativas adaptadas a sus necesidades. Las herramientas utilizadas son modelos de lenguaje de OpenAI y generadores de imagen como NightCafe.\n"
   ]
  },
  {
   "cell_type": "markdown",
   "id": "5961fcae",
   "metadata": {},
   "source": [
    "## 📚 Introducción\n",
    "\n",
    "### Nombre del proyecto\n",
    "**PROTON: Educación Visual para Niños Neurodivergentes**\n",
    "\n",
    "### Presentación del problema\n",
    "Niños neurodivergentes requieren apoyos visuales y materiales adaptados para comprender su entorno y participar activamente en procesos de aprendizaje. La oferta actual suele ser poco personalizada y no siempre efectiva.\n",
    "\n",
    "### Propuesta de solución\n",
    "Generar materiales educativos personalizados usando IA:\n",
    "- Cuentos simples, con instrucciones claras y lenguaje accesible.\n",
    "- Ilustraciones creadas a partir de esos textos para acompañar la comprensión visual.\n",
    "\n",
    "### Justificación de viabilidad\n",
    "Es técnicamente viable mediante el uso de herramientas accesibles como GPT y NightCafe. No requiere programación avanzada, es escalable y flexible.\n"
   ]
  },
  {
   "cell_type": "markdown",
   "id": "93390784",
   "metadata": {},
   "source": [
    "## 🎯 Objetivos\n",
    "- Diseñar prompts que generen contenido visual y textual inclusivo.\n",
    "- Personalizar materiales educativos con IA.\n",
    "- Comprobar la utilidad de los prompts en situaciones reales.\n"
   ]
  },
  {
   "cell_type": "markdown",
   "id": "0aaedae5",
   "metadata": {},
   "source": [
    "## 🧪 Metodología\n",
    "1. Definir situaciones cotidianas que generan desafíos (ej. prepararse para el colegio).\n",
    "2. Crear prompts texto-texto para generar historias adaptadas.\n",
    "3. Crear prompts texto-imagen para generar ilustraciones acompañantes.\n",
    "4. Refinar mediante fast prompting.\n",
    "5. Documentar resultados.\n"
   ]
  },
  {
   "cell_type": "markdown",
   "id": "df886f2d",
   "metadata": {},
   "source": [
    "## 🛠️ Herramientas y tecnologías\n",
    "- OpenAI (ChatGPT / Playground)\n",
    "- NightCafe Studio\n",
    "- Jupyter Notebook o Visual Studio Code\n",
    "- Fast Prompting para afinar resultados\n"
   ]
  },
  {
   "cell_type": "markdown",
   "id": "296e45ca",
   "metadata": {},
   "source": [
    "## 🧑‍💻 Implementación\n",
    "\n",
    "### 📝 Prompt de texto:\n",
    "Illustration for a children's storybook. A 6-year-old boy with brown hair and light skin is happily putting on a colorful t-shirt in front of a mirror. He is smiling, standing in a cozy and clean bedroom. Cartoon style, soft outlines, pastel colors, warm natural light, simple and tidy background, friendly atmosphere\n"
   ]
  },
  {
   "cell_type": "markdown",
   "id": "399bb9cc",
   "metadata": {},
   "source": [
    "\n",
    "### 📖 Texto generado:\n",
    "Hola! Soy Tomás. Cada mañana, me levanto, me estiro y me pongo mi camiseta favorita. Luego desayuno con mamá y me cepillo los dientes. A veces me distraigo, pero mi reloj me ayuda a saber qué sigue. ¡Listo! Estoy preparado para ir al colegio a aprender y jugar.\n",
    "\n",
    "### 🎨 Prompt para imagen:\n"
   ]
  },
  {
   "cell_type": "markdown",
   "id": "ee595ab8",
   "metadata": {},
   "source": [
    "## 📈 Resultados\n",
    "El texto y la imagen generados forman un recurso educativo claro, amigable y adaptado. Se observó una mejora en la claridad y atractivo del contenido tras refinar los prompts. El recurso tiene potencial para ser utilizado en entornos escolares o terapéuticos."
   ]
  },
  {
   "cell_type": "markdown",
   "id": "a7ac2932",
   "metadata": {},
   "source": [
    "![Tomás getting dressed](img1.png)\n",
    "![Tomás getting ready](img2.png)"
   ]
  },
  {
   "cell_type": "markdown",
   "id": "868d5d2a",
   "metadata": {},
   "source": [
    "## ✅ Conclusiones\n",
    "La inteligencia artificial puede ser una aliada para crear materiales educativos personalizados. Este proyecto demuestra que, con prompts bien diseñados, es posible generar contenido útil, accesible y emocionalmente significativo para niños neurodivergentes. El uso de IA permite adaptarse a necesidades específicas sin requerir grandes recursos técnicos ni económicos."
   ]
  },
  {
   "cell_type": "markdown",
   "id": "5fb8bb06",
   "metadata": {},
   "source": [
    "## 🔗 Referencias\n",
    "- OpenAI: https://platform.openai.com/\n",
    "- NightCafe Studio: https://creator.nightcafe.studio/"
   ]
  }
 ],
 "metadata": {
  "language_info": {
   "name": "python"
  }
 },
 "nbformat": 4,
 "nbformat_minor": 5
}
